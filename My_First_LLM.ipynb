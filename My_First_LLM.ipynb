{
  "nbformat": 4,
  "nbformat_minor": 0,
  "metadata": {
    "colab": {
      "provenance": [],
      "authorship_tag": "ABX9TyPPV8kNDyyaU61uYb1CZu+e",
      "include_colab_link": true
    },
    "kernelspec": {
      "name": "python3",
      "display_name": "Python 3"
    },
    "language_info": {
      "name": "python"
    }
  },
  "cells": [
    {
      "cell_type": "markdown",
      "metadata": {
        "id": "view-in-github",
        "colab_type": "text"
      },
      "source": [
        "<a href=\"https://colab.research.google.com/github/felipepurgano/My_First_LLM/blob/main/My_First_LLM.ipynb\" target=\"_parent\"><img src=\"https://colab.research.google.com/assets/colab-badge.svg\" alt=\"Open In Colab\"/></a>"
      ]
    },
    {
      "cell_type": "markdown",
      "source": [
        "Instalando o SDK do Google"
      ],
      "metadata": {
        "id": "sxTBRc41qOeL"
      }
    },
    {
      "cell_type": "code",
      "source": [
        "pip install -q -U google-generativeai"
      ],
      "metadata": {
        "id": "FvJ_7M46p_KL"
      },
      "execution_count": 40,
      "outputs": []
    },
    {
      "cell_type": "code",
      "source": [
        "import pathlib\n",
        "import textwrap\n",
        "import google.generativeai as genai\n",
        "from google.colab import userdata\n",
        "from IPython.display import display\n",
        "from IPython.display import Markdown\n",
        "import requests\n",
        "import json\n",
        "import string\n",
        "import random\n",
        "\n",
        "def to_markdown(text):\n",
        "  text = text.replace('•', '  *')\n",
        "  return Markdown(textwrap.indent(text, '> ', predicate=lambda _: True))\n",
        "\n",
        "GOOGLE_API_KEY=\"YOUT_API_KEY\"\n",
        "genai.configure(api_key=GOOGLE_API_KEY)"
      ],
      "metadata": {
        "id": "IX7A3fsa7B86"
      },
      "execution_count": 41,
      "outputs": []
    },
    {
      "cell_type": "markdown",
      "source": [
        "Verificando os modelos disponíveis para utilização."
      ],
      "metadata": {
        "id": "AzKqA0r9rzx0"
      }
    },
    {
      "cell_type": "code",
      "source": [
        "for m in genai.list_models():\n",
        "  if 'generateContent' in m.supported_generation_methods:\n",
        "    print(m.name)"
      ],
      "metadata": {
        "colab": {
          "base_uri": "https://localhost:8080/",
          "height": 142
        },
        "id": "TflNb24Rr7Mu",
        "outputId": "2f94024b-16b7-4489-8b8b-ce13b0c9d2e5"
      },
      "execution_count": 42,
      "outputs": [
        {
          "output_type": "stream",
          "name": "stdout",
          "text": [
            "models/gemini-1.0-pro\n",
            "models/gemini-1.0-pro-001\n",
            "models/gemini-1.0-pro-latest\n",
            "models/gemini-1.0-pro-vision-latest\n",
            "models/gemini-1.5-pro-latest\n",
            "models/gemini-pro\n",
            "models/gemini-pro-vision\n"
          ]
        }
      ]
    },
    {
      "cell_type": "markdown",
      "source": [
        "Configurações das respostas que serão geradas pelo Chat."
      ],
      "metadata": {
        "id": "viknUQmmqUgR"
      }
    },
    {
      "cell_type": "code",
      "source": [
        "generation_config = {\n",
        "    \"candidate_count\": 1,\n",
        "    \"temperature\": 0.8,\n",
        "    \"top_p\": 0.9,\n",
        "    \"top_k\":40\n",
        "}"
      ],
      "metadata": {
        "id": "JXNgARso7H6W"
      },
      "execution_count": 43,
      "outputs": []
    },
    {
      "cell_type": "markdown",
      "source": [
        "Configurações de segurança"
      ],
      "metadata": {
        "id": "MG_-Cn0fq6oI"
      }
    },
    {
      "cell_type": "code",
      "source": [
        "safety_settings = {\n",
        "    \"HARASSMENT\": \"BLOCK_ONLY_HIGH\",\n",
        "    \"HATE\": \"BLOCK_ONLY_HIGH\",\n",
        "    \"SEXUAL\": \"BLOCK_ONLY_HIGH\",\n",
        "    \"DANGEROUS\": \"BLOCK_ONLY_HIGH\",\n",
        "}"
      ],
      "metadata": {
        "id": "J5k29piZ7LMd"
      },
      "execution_count": 44,
      "outputs": []
    },
    {
      "cell_type": "markdown",
      "source": [
        "Definindo o modelo que será utilizado no chatbot."
      ],
      "metadata": {
        "id": "p0Ikofllq8ez"
      }
    },
    {
      "cell_type": "code",
      "source": [
        "model = genai.GenerativeModel(model_name=\"gemini-1.5-pro-latest\",\n",
        "                              generation_config=generation_config,\n",
        "                              safety_settings=safety_settings)"
      ],
      "metadata": {
        "id": "7cjcZ8-G7QQu"
      },
      "execution_count": 45,
      "outputs": []
    },
    {
      "cell_type": "markdown",
      "source": [
        "Criando uma variável para armazenamento do histórico."
      ],
      "metadata": {
        "id": "EPLRA9CErAYj"
      }
    },
    {
      "cell_type": "code",
      "source": [
        "chat = model.start_chat(history=[])"
      ],
      "metadata": {
        "id": "APPKw3XE7Riv"
      },
      "execution_count": 46,
      "outputs": []
    },
    {
      "cell_type": "markdown",
      "source": [
        "Função que faz o encurtamento de URL com a API do spoo.me com o auxílio de um alias que gera 6 caracteres aleatórios para o final da URL."
      ],
      "metadata": {
        "id": "XDG3j_g8rD-_"
      }
    },
    {
      "cell_type": "code",
      "source": [
        "def gerar_alias_aleatorio(tamanho=6):\n",
        "    \"\"\"Gera um alias aleatório com o tamanho especificado.\"\"\"\n",
        "    caracteres = string.ascii_letters + string.digits\n",
        "    alias = ''.join(random.choice(caracteres) for _ in range(tamanho))\n",
        "    return alias\n",
        "\n",
        "def encurtar_url(url_longa):\n",
        "    \"\"\"\n",
        "    Encurta uma URL usando a API do Spoo.me.\n",
        "    \"\"\"\n",
        "    url = \"https://spoo.me\"\n",
        "    alias = gerar_alias_aleatorio() # Gera um alias aleatório\n",
        "\n",
        "    payload = {\n",
        "        \"url\": url_longa,\n",
        "        \"alias\": alias,\n",
        "        \"max-clicks\": 10,\n",
        "        \"password\": \"\"\n",
        "    }\n",
        "    headers = {\n",
        "        \"Accept\": \"application/json\"\n",
        "    }\n",
        "    response = requests.post(url, data=payload, headers=headers)\n",
        "\n",
        "    if response.status_code == 200:\n",
        "        return response.json()\n",
        "    else:\n",
        "        print(f\"Erro ao encurtar URL: {response.status_code}\")\n",
        "        print(response.text)\n",
        "        return None\n",
        "\n",
        "prompt = input(\"Olá! Sou um chatbot que pode encurtar URLs, se deseja encurtar uma URL digite: Encurtar. Ou pode me perguntar o que desejar? \")\n",
        "\n",
        "while prompt != \"fim\":\n",
        "    if \"encurtar\" in prompt.lower():\n",
        "        url_longa = input(\"Digite a URL que você deseja encurtar: \")\n",
        "        url_encurtada = encurtar_url(url_longa)\n",
        "        if url_encurtada:\n",
        "            print(f\"URL encurtada: {url_encurtada}\")\n",
        "        else:\n",
        "            print(\"Não foi possível encurtar a URL.\")\n",
        "    else:\n",
        "        response = model.generate_content(prompt)\n",
        "        print(f\"Resposta: {response.text}\")\n",
        "\n",
        "    print(\"-\" * 80)  # Separação\n",
        "    prompt = input(\"O que mais posso te ajudar? Para finalizar digite: 'fim' \\n \")\n",
        "\n",
        "print(\"Até mais!\")"
      ],
      "metadata": {
        "colab": {
          "base_uri": "https://localhost:8080/",
          "height": 626
        },
        "id": "XkP2YCSz7TQz",
        "outputId": "d838aa6d-0c12-4280-91d9-d8a2d1d1b2c2"
      },
      "execution_count": 47,
      "outputs": [
        {
          "output_type": "stream",
          "name": "stdout",
          "text": [
            "Olá! Sou um chatbot que pode encurtar URLs, se deseja encurtar uma URL digite: Encurtar. Ou pode me perguntar o que desejar? Encurtar\n",
            "Digite a URL que você deseja encurtar: https://www.alura.com.br/\n",
            "URL encurtada: {'short_url': 'https://spoo.me/Zxzb3w'}\n",
            "--------------------------------------------------------------------------------\n",
            "O que mais posso te ajudar? Para finalizar digite: 'fim' \n",
            " Como faço para estudar na Alura?\n",
            "Resposta: Que legal que você quer estudar na Alura! Para te ajudar, preciso entender melhor o que você busca.  Me fale:\n",
            "\n",
            "* **O que você quer aprender?** A Alura tem cursos de programação, design, UX, marketing digital, data science e muito mais. \n",
            "* **Qual o seu nível de conhecimento?**  Temos cursos para iniciantes, intermediários e avançados.\n",
            "* **Você prefere cursos online ou presenciais?** A Alura oferece as duas modalidades.\n",
            "\n",
            "Com essas informações, posso te guiar pelos passos para começar seus estudos na Alura:\n",
            "\n",
            "1. **Encontrar o curso ideal:** Acesse o site da Alura (https://www.alura.com.br/) e explore as áreas de conhecimento. Use a barra de busca para encontrar cursos específicos.\n",
            "2. **Escolher a modalidade:**  Defina se você prefere cursos online ou presenciais. \n",
            "3. **Criar uma conta:**  Você precisará criar uma conta na Alura para se inscrever nos cursos.\n",
            "4. **Assinar um plano:** A Alura oferece diferentes planos de assinatura, com acesso a diferentes cursos e recursos.\n",
            "5. **Começar a estudar!**  Após a inscrição, você terá acesso ao conteúdo do curso e poderá começar a aprender.\n",
            "\n",
            "A Alura também oferece diversos recursos para te ajudar a aprender, como:\n",
            "\n",
            "* **Comunidade:**  Você pode interagir com outros alunos, tirar dúvidas e compartilhar seus projetos.\n",
            "* **Mentoria:**  Alguns planos oferecem mentoria individual com especialistas da área.\n",
            "* **Certificado:**  Ao concluir um curso, você recebe um certificado que comprova seus conhecimentos.\n",
            "\n",
            "Com dedicação e foco, você poderá aproveitar ao máximo os cursos da Alura e alcançar seus objetivos de aprendizado. \n",
            "\n",
            "Aguardo suas respostas para te dar um guia mais personalizado! 😊 \n",
            "\n",
            "--------------------------------------------------------------------------------\n",
            "O que mais posso te ajudar? Para finalizar digite: 'fim' \n",
            " fim\n",
            "Até mais!\n"
          ]
        }
      ]
    }
  ]
}